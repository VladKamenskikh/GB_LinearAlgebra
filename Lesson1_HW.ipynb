{
 "cells": [
  {
   "cell_type": "markdown",
   "metadata": {},
   "source": [
    "### Линейное пространство. Основные понятия. Часть 1"
   ]
  },
  {
   "cell_type": "markdown",
   "metadata": {},
   "source": [
    "__1.__ Исследовать на линейную зависимость:\n",
    "\n",
    "$$f_{1}(x)=e^{x}, f_{2}(x)=1, f_{3}(x)=x+1, f_{4}(x)=x-e^{x}.$$"
   ]
  },
  {
   "cell_type": "markdown",
   "metadata": {},
   "source": [
    "$$f_4(x)=f_3(x)-f_2(x)-f_1(x)$$\n",
    "\n",
    "Одна из функций является линейной комбинацией трех остальных. Из этого следует, что функции линейно зависимы.\n"
   ]
  },
  {
   "cell_type": "markdown",
   "metadata": {},
   "source": [
    "__2.__ Исследовать на линейную зависимость:\n",
    "$$f_{1}(x)=2, f_{2}(x)=x, f_{3}(x)=x^{2}, f_{4}(x)=(x+1)^{2}$$"
   ]
  },
  {
   "cell_type": "markdown",
   "metadata": {},
   "source": [
    "$$f_4(x)=x^2+2x+1$$\n",
    "\n",
    "$$f_4(x)=f_3(x)+2f_2(x)+0.5f_1(x)$$\n",
    "\n",
    "Одна из функций является линейной комбинацией трех остальных. Из этого следует, что функции линейно зависимы."
   ]
  },
  {
   "cell_type": "markdown",
   "metadata": {},
   "source": [
    "__3.__ Найти координаты вектора $x = (2, 3, 5)\\in \\mathbb{R}^{3}$ в базисе $b_{1}=(0, 0, 10)$, $b_{2}=(2, 0, 0)$, $b_{3}=(0, 1, 0)$."
   ]
  },
  {
   "cell_type": "markdown",
   "metadata": {},
   "source": [
    "$$x=(2,3,5)=0.5b_1+b_2+3b_3$$"
   ]
  },
  {
   "cell_type": "markdown",
   "metadata": {},
   "source": [
    "__4.__ Найти координаты вектора  $3𝑥2−2𝑥+2\\in \\mathbb{R}^{3}$ :\n",
    "\n",
    "а) в базисе  1 ,  𝑥 ,  𝑥2 ;\n",
    "\n",
    "$$a=3b_3-2b_2+2b_1$$"
   ]
  },
  {
   "cell_type": "markdown",
   "metadata": {},
   "source": [
    "б) в базисе  𝑥2 ,  𝑥−1 ,  1 .\n",
    "\n",
    "$$3x^2-2x+2=3x^2-2(x-1)$$\n",
    "\n",
    "$$b=3b_1-2b_2$$"
   ]
  },
  {
   "cell_type": "markdown",
   "metadata": {},
   "source": [
    "__5.__ Установить, является ли линейным подпространством:\n",
    "\n",
    "а) совокупность всех векторов трехмерного пространства, у которых по крайней мере одна из первых двух координат равна нулю;\n"
   ]
  },
  {
   "cell_type": "markdown",
   "metadata": {},
   "source": [
    "x=(a,0,b), y=(0,c,d)\n",
    "\n",
    "(a,0,b)+(0,c,d)=(a,c,b+d)\n",
    "\n",
    "(a,0,b)+(c,0,d)=(a+c,0,b+d)\n",
    "\n",
    "Совокупность всех векторов трехмерного пространства, у которых по крайней мере одна из первых двух координат равна нулю не являются линейным подпространством.\n"
   ]
  },
  {
   "cell_type": "markdown",
   "metadata": {},
   "source": [
    "б) все векторы, являющиеся линейными комбинациями данных векторов  {𝑢1,𝑢2,…,𝑢𝑛} ."
   ]
  },
  {
   "cell_type": "markdown",
   "metadata": {},
   "source": [
    "$$x=\\lambda_1 u_1+\\lambda_2 u_2+\\lambda_3 u_3+ ... +\\lambda_n u_n$$\n",
    "\n",
    "$$y=\\mu_1 u_1+\\mu_2 u_2+\\mu_3 u_3+ ... +\\mu_n u_n$$\n",
    "\n",
    "$$x+y=(\\lambda_1+\\mu_1) u_1+(\\lambda_2+\\mu_2) u_2+(\\lambda_3+\\mu_3) u_3+ ... +(\\lambda_n+\\mu_n) u_n$$\n",
    "\n",
    "$$\\beta a=\\beta_1\\lambda_1 u_1+\\beta_2\\lambda_2 u_2+\\beta_3\\lambda_3 u_3+...+\\beta_n\\lambda_n u_n$$\n",
    "\n",
    "Все векторы, являющиеся линейными комбинациями данных векторов {𝑢1,𝑢2,…,𝑢𝑛} являются линейными подпространствами."
   ]
  },
  {
   "cell_type": "markdown",
   "metadata": {},
   "source": [
    "### Линейное пространство. Основные понятия. Часть 2"
   ]
  },
  {
   "cell_type": "markdown",
   "metadata": {},
   "source": [
    "__1.__ Найти скалярное произведение векторов $x, y \\in \\mathbb{R}$:<br>\n",
    "а) $x=(0,-3, 6),~y=(-4, 7, 9);$<br>"
   ]
  },
  {
   "cell_type": "markdown",
   "metadata": {},
   "source": [
    "$(x,y)=0+(-21)+54=33$"
   ]
  },
  {
   "cell_type": "markdown",
   "metadata": {},
   "source": [
    "б) $x=(7, -4, 0, 1),~y=(-3, 1, 11, 2).$"
   ]
  },
  {
   "cell_type": "markdown",
   "metadata": {},
   "source": [
    "$(x,y)=(-21)+(-4)+0+2=-23$"
   ]
  },
  {
   "cell_type": "markdown",
   "metadata": {},
   "source": [
    "__2.__ Найти нормы векторов $(4, 2, 4)$ и $(12, 3, 4)$ и угол между ними."
   ]
  },
  {
   "cell_type": "markdown",
   "metadata": {},
   "source": [
    "$||x||=\\sqrt{16+4+16}=6$\n",
    "\n",
    "$||y||=\\sqrt{144+9+16}=13$\n",
    "\n",
    "$cos\\phi=\\frac{48+6+16}{6\\cdot13}=\\frac{70}{78}$"
   ]
  },
  {
   "cell_type": "markdown",
   "metadata": {},
   "source": [
    "__3.__ Будет ли линейное пространство евклидовым, если за скалярное произведение принять:<br>\n",
    "\n",
    "а) произведение длин векторов;<br>"
   ]
  },
  {
   "cell_type": "markdown",
   "metadata": {},
   "source": [
    "$a,b \\in \\mathbb{R}$\n",
    "\n",
    "$(a,b)=||a||\\cdot||b||$\n",
    "\n",
    "$(b,a)=||b||\\cdot||a||$\n",
    "\n",
    "$(a,b)=(b,a)$\n",
    "\n",
    "<br>\n",
    "\n",
    "$(\\lambda a,b)=|\\lambda|||a||\\cdot||b||$\n",
    "\n",
    "<br>\n",
    "\n",
    "$(a_1+a_2,b)=||a_1+a_2||\\cdot||b||$\n",
    "$(a_1,b)+(a_2,b)=||a_1||\\cdot||b||+||a_2||\\cdot||b||=||b||(||a_1||+||a_2||)$\n",
    "\n",
    "Если за скалярное произведение принять произведение длин векторов, линейное пространство будет евклидовым только если угол между векторами равен 0."
   ]
  },
  {
   "cell_type": "markdown",
   "metadata": {},
   "source": [
    "б) утроенное обычное скалярное произведение векторов?"
   ]
  },
  {
   "cell_type": "markdown",
   "metadata": {},
   "source": [
    "$a,b \\in \\mathbb{R}$\n",
    "\n",
    "$(a,b)=3||a||\\cdot||b||\\cdot cos\\phi$\n",
    "\n",
    "$(b,a)=3||b||\\cdot||a||\\cdot cos\\phi$\n",
    "\n",
    "<br>\n",
    "\n",
    "$(\\lambda a,b)=3|\\lambda|||a||\\cdot||b||\\cdot cos\\phi$\n",
    "\n",
    "$\\lambda (a,b)=3\\lambda||a||\\cdot||b||\\cdot cos\\phi$\n",
    "\n",
    "<br>\n",
    "\n",
    "$(a_1+a_2,b)=3||a_1+a_2||\\cdot||b||\\cdot cos\\phi$\n",
    "\n",
    "$(a_1,b)+(a_2,b)=3||a_1||\\cdot||b||\\cdot cos\\alpha+3||a_2||\\cdot||b||\\cdot cos\\beta=3||b||(||a_1||\\cdot cos\\alpha+||a_2||\\cdot cos\\beta)$\n",
    "\n",
    "Если за скалярное произведение принять утроенное обычное скалярное произведение векторов, линейное пространство будет евклидовым если $cos\\alpha+cos\\beta=cos\\phi$."
   ]
  },
  {
   "cell_type": "markdown",
   "metadata": {},
   "source": [
    "__4.__ Какие из нижеперечисленных векторов образуют ортонормированный базис в линейном пространстве $\\mathbb{R}^{3}$:<br>\n",
    "а) $(1,0,0),(0,0,1);$ <br>"
   ]
  },
  {
   "cell_type": "markdown",
   "metadata": {},
   "source": [
    "$(a,b)=1\\cdot 0+0\\cdot 0+ 0\\cdot 1=0$\n",
    "\n",
    "a и b ортонормированны."
   ]
  },
  {
   "cell_type": "markdown",
   "metadata": {},
   "source": [
    "б) $(1/\\sqrt{2},-1/\\sqrt{2},0),(1/\\sqrt{2},1/\\sqrt{2},0), (0,0,1);$ <br>"
   ]
  },
  {
   "cell_type": "markdown",
   "metadata": {},
   "source": [
    "$(a,b)=\\frac{1}{\\sqrt{2}}\\cdot\\frac{1}{\\sqrt{2}}+(-\\frac{1}{\\sqrt{2}})\\cdot\\frac{1}{\\sqrt{2}}+0=0$\n",
    "\n",
    "$(a,c)=\\frac{1}{\\sqrt{2}}\\cdot0+(-\\frac{1}{\\sqrt{2}})\\cdot0+0\\cdot 1=0$\n",
    "\n",
    "$(b,c)=\\frac{1}{\\sqrt{2}}\\cdot 0+\\frac{1}{\\sqrt{2}}\\cdot 0+0\\cdot1=0$\n",
    "\n",
    "Векторы a,b,c ортонормированны."
   ]
  },
  {
   "cell_type": "markdown",
   "metadata": {},
   "source": [
    "в) $(1/2, -1/2, 0), (0, 1/2, 1/2), (0,0,1);$<br>"
   ]
  },
  {
   "cell_type": "markdown",
   "metadata": {},
   "source": [
    "$(a,b)=\\frac{1}{2}\\cdot0+(-\\frac{1}{2})\\cdot\\frac{1}{2}+0\\cdot\\frac{1}{2}=-\\frac{1}{4}$\n",
    "\n",
    "$(a,c)=\\frac{1}{2}\\cdot0+(-\\frac{1}{2})\\cdot0+0\\cdot1=0$\n",
    "\n",
    "$(b,c)=0\\cdot0+\\frac{1}{2}\\cdot0+\\frac{1}{2}\\cdot1=\\frac{1}{2}$\n",
    "\n",
    "Векторы a,c ортонормированны, a,b и b,c не ортонормированны."
   ]
  },
  {
   "cell_type": "markdown",
   "metadata": {},
   "source": [
    "г) $(1,0,0),(0,1,0),(0,0,1)$ "
   ]
  },
  {
   "cell_type": "markdown",
   "metadata": {},
   "source": [
    "$(a,b)=1\\cdot0+0\\cdot1+0=0$\n",
    "\n",
    "$(a,c)=1\\cdot0+0+0\\cdot1=0$\n",
    "\n",
    "$(b,c)=0+1\\cdot0+0\\cdot1=0$\n",
    "\n",
    "Векторы a,b,c ортонормированны."
   ]
  }
 ],
 "metadata": {
  "kernelspec": {
   "display_name": "Python 3",
   "language": "python",
   "name": "python3"
  },
  "language_info": {
   "codemirror_mode": {
    "name": "ipython",
    "version": 3
   },
   "file_extension": ".py",
   "mimetype": "text/x-python",
   "name": "python",
   "nbconvert_exporter": "python",
   "pygments_lexer": "ipython3",
   "version": "3.8.5"
  }
 },
 "nbformat": 4,
 "nbformat_minor": 4
}
