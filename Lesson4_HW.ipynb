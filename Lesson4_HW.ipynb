{
 "cells": [
  {
   "cell_type": "code",
   "execution_count": 1,
   "metadata": {},
   "outputs": [],
   "source": [
    "import numpy as np"
   ]
  },
  {
   "cell_type": "markdown",
   "metadata": {},
   "source": [
    "## Системы линейных уравнений. Часть 1"
   ]
  },
  {
   "cell_type": "markdown",
   "metadata": {},
   "source": [
    "__1.__ Решить систему уравнений методом Гаусса:\n",
    "\n",
    "$$\\begin{cases}\n",
    "x_{1}+x_{2}-x_{3}-2x_{4}=0, \\\\\n",
    "2x_{1}+x_{2}-x_{3}+x_{4}=-2, \\\\\n",
    "x_{1}+x_{2}-3x_{3}+x_{4}=4.\n",
    "\\end{cases}$$"
   ]
  },
  {
   "cell_type": "markdown",
   "metadata": {},
   "source": [
    "$$\\begin{pmatrix}\n",
    "\\left.\\begin{matrix}\n",
    "1 & 1 & -1 & -2\\\\ \n",
    "2 & 1 & -1 & 1\\\\ \n",
    "1 & 1 & -3 & 1\n",
    "\\end{matrix}\\right|\n",
    "\\begin{matrix}\n",
    "0\\\\ \n",
    "-2\\\\\n",
    "4\n",
    "\\end{matrix}\n",
    "\\end{pmatrix}$$\n",
    "\n",
    "$$\\begin{pmatrix}\n",
    "\\left.\\begin{matrix}\n",
    "1 & 1 & -1 & -2\\\\ \n",
    "0 & 1 & -1 & -5\\\\ \n",
    "0 & 0 & 2 & -3\n",
    "\\end{matrix}\\right|\n",
    "\\begin{matrix}\n",
    "0\\\\ \n",
    "2\\\\\n",
    "-4\n",
    "\\end{matrix}\n",
    "\\end{pmatrix}$$\n",
    "\n",
    "$$\\begin{cases}\n",
    "x_{1}+x_{2}-x_{3}-2x_{4}=0, \\\\\n",
    "x_{2}-x_{3}-5x_{4}=2, \\\\\n",
    "x_{3}-3x_{4}=-4\n",
    "\\end{cases}$$\n",
    "\n",
    "Система имеет бесконечное множество решений. Общее решение:\n",
    "\n",
    "$x_4=c$\n",
    "\n",
    "$x_3-3c=-4 \\; \\Leftrightarrow \\; x_3=3c-4$\n",
    "\n",
    "$x_2-3c+4-5c=2 \\; \\Leftrightarrow \\; x_2=8c-2$\n",
    "\n",
    "$x_1+8c-2-3c+4-2c=0 \\; \\Leftrightarrow \\; x_1=13c-2$\n"
   ]
  },
  {
   "cell_type": "markdown",
   "metadata": {},
   "source": [
    "__2.__ Проверить на совместность и выяснить, сколько решений будет иметь система линейных уравнений:\n",
    "\n",
    "   а) $\\begin{cases}\n",
    "3x_{1}-x_{2}+x_{3}=4, \\\\\n",
    "2x_{1}-5x_{2}-3x_{3}=-17, \\\\\n",
    "x_{1}+x_{2}-x_{3}=0;\n",
    "\\end{cases}$"
   ]
  },
  {
   "cell_type": "code",
   "execution_count": 7,
   "metadata": {},
   "outputs": [
    {
     "name": "stdout",
     "output_type": "stream",
     "text": [
      "Ранг матрицы А: 3\n",
      "Ранг расширенной матрицы А: 3\n"
     ]
    }
   ],
   "source": [
    "a=np.array([[3,-1,1],[2,-5,-3],[1,1,-1]])\n",
    "a_ext=np.array([[3,-1,1,4],[2,-5,-3,-17],[1,1,-1,0]])\n",
    "\n",
    "print(f'Ранг матрицы А: {np.linalg.matrix_rank(a)}')\n",
    "print(f'Ранг расширенной матрицы А: {np.linalg.matrix_rank(a_ext)}')"
   ]
  },
  {
   "cell_type": "markdown",
   "metadata": {},
   "source": [
    "Система определена и имеет единственное решение."
   ]
  },
  {
   "cell_type": "markdown",
   "metadata": {},
   "source": [
    "б) $\\begin{cases}\n",
    "2x_{1}-4x_{2}+6x_{3}=1, \\\\\n",
    "x_{1}-2x_{2}+3x_{3}=-2, \\\\\n",
    "3x_{1}-6x_{2}+9x_{3}=5;\n",
    "\\end{cases}$"
   ]
  },
  {
   "cell_type": "code",
   "execution_count": 9,
   "metadata": {},
   "outputs": [
    {
     "name": "stdout",
     "output_type": "stream",
     "text": [
      "Ранг матрицы А: 1\n",
      "Ранг расширенной матрицы А: 2\n"
     ]
    }
   ],
   "source": [
    "b=np.array([[2,-4,6],[1,-2,3],[3,-6,9]])\n",
    "b_ext=np.array([[2,-4,6,1],[1,-2,3,-2],[3,-6,9,5]])\n",
    "\n",
    "print(f'Ранг матрицы А: {np.linalg.matrix_rank(b)}')\n",
    "print(f'Ранг расширенной матрицы А: {np.linalg.matrix_rank(b_ext)}')"
   ]
  },
  {
   "cell_type": "markdown",
   "metadata": {},
   "source": [
    "$rankA<rank \\tilde A$, система несовместна."
   ]
  },
  {
   "cell_type": "markdown",
   "metadata": {},
   "source": [
    "в) $\\begin{cases}\n",
    "x_{1}+2x_{2}+5x_{3}=4, \\\\\n",
    "3x_{1}+x_{2}-8x_{3}=-2. \n",
    "\\end{cases}$"
   ]
  },
  {
   "cell_type": "code",
   "execution_count": 10,
   "metadata": {},
   "outputs": [
    {
     "name": "stdout",
     "output_type": "stream",
     "text": [
      "Ранг матрицы А: 2\n",
      "Ранг расширенной матрицы А: 2\n"
     ]
    }
   ],
   "source": [
    "с=np.array([[1,2,5],[3,1,-8]])\n",
    "с_ext=np.array([[1,2,5,4],[3,1,-8,-2]])\n",
    "\n",
    "print(f'Ранг матрицы А: {np.linalg.matrix_rank(с)}')\n",
    "print(f'Ранг расширенной матрицы А: {np.linalg.matrix_rank(с_ext)}')"
   ]
  },
  {
   "cell_type": "markdown",
   "metadata": {},
   "source": [
    "Система определена и имеет единственное решение."
   ]
  },
  {
   "cell_type": "markdown",
   "metadata": {},
   "source": [
    "__3.__ Проверить на совместность и выяснить, сколько решений будет иметь система линейных уравнений, заданная расширенной матрицей\n",
    "\n",
    "$$\\tilde{A}=\\begin{pmatrix}\n",
    "\\left.\\begin{matrix}\n",
    "1 & 3 & -2 & 4\\\\ \n",
    "0 & 5 & 0 & 1\\\\ \n",
    "0 & 0 & 3 & 0\\\\ \n",
    "0 & 0 & 0 & 2\n",
    "\\end{matrix}\\right|\n",
    "\\begin{matrix}\n",
    "3\\\\ \n",
    "2\\\\\n",
    "4\\\\\n",
    "1\n",
    "\\end{matrix}\n",
    "\\end{pmatrix}.$$"
   ]
  },
  {
   "cell_type": "code",
   "execution_count": 11,
   "metadata": {},
   "outputs": [
    {
     "name": "stdout",
     "output_type": "stream",
     "text": [
      "Ранг матрицы А: 4\n",
      "Ранг расширенной матрицы А: 4\n"
     ]
    }
   ],
   "source": [
    "d=np.array([[1,3,-2,4],[0,5,0,1],[0,0,3,0],[0,0,0,2]])\n",
    "d_ext=np.array([[1,3,-2,4,3],[0,5,0,1,2],[0,0,3,0,4],[0,0,0,2,1]])\n",
    "\n",
    "print(f'Ранг матрицы А: {np.linalg.matrix_rank(d)}')\n",
    "print(f'Ранг расширенной матрицы А: {np.linalg.matrix_rank(d_ext)}')"
   ]
  },
  {
   "cell_type": "markdown",
   "metadata": {},
   "source": [
    "Система определена и имеет единственное решение."
   ]
  },
  {
   "cell_type": "markdown",
   "metadata": {},
   "source": [
    "__4.__ Дана система линейных уравнений, заданная расширенной матрицей\n",
    "\n",
    "$$\\tilde{A}=\\begin{pmatrix}\n",
    "\\left.\\begin{matrix}\n",
    "1 & 2 & 3\\\\ \n",
    "4 & 5 & 6\\\\ \n",
    "7 & 8 & 9\n",
    "\\end{matrix}\\right|\n",
    "\\begin{matrix}\n",
    "a\\\\ \n",
    "b\\\\\n",
    "c\n",
    "\\end{matrix}\n",
    "\\end{pmatrix}.$$\n",
    "\n",
    "Найти соотношение между параметрами $a$, $b$ и $c$, при которых система является несовместной."
   ]
  },
  {
   "cell_type": "markdown",
   "metadata": {},
   "source": [
    "$$\\begin{pmatrix}\n",
    "\\left.\\begin{matrix}\n",
    "1 & 2 & 3\\\\ \n",
    "4 & 5 & 6\\\\ \n",
    "7 & 8 & 9\n",
    "\\end{matrix}\\right|\n",
    "\\begin{matrix}\n",
    "a\\\\ \n",
    "b\\\\\n",
    "c\n",
    "\\end{matrix}\n",
    "\\end{pmatrix}$$\n",
    "\n",
    "$$\\begin{pmatrix}\n",
    "\\left.\\begin{matrix}\n",
    "1 & 2 & 3\\\\ \n",
    "0 & 3 & 6\\\\ \n",
    "0 & 6 & 12\n",
    "\\end{matrix}\\right|\n",
    "\\begin{matrix}\n",
    "a\\\\ \n",
    "4a-b\\\\\n",
    "7a-c\n",
    "\\end{matrix}\n",
    "\\end{pmatrix}$$\n",
    "\n",
    "$$\\begin{pmatrix}\n",
    "\\left.\\begin{matrix}\n",
    "1 & 2 & 3\\\\ \n",
    "0 & 3 & 6\\\\ \n",
    "0 & 0 & 0\n",
    "\\end{matrix}\\right|\n",
    "\\begin{matrix}\n",
    "a\\\\ \n",
    "4a-b\\\\\n",
    "a-2b+c\n",
    "\\end{matrix}\n",
    "\\end{pmatrix}$$\n",
    "\n",
    "Если $a-2b+c \\neq 0$, то система несовместна."
   ]
  },
  {
   "cell_type": "markdown",
   "metadata": {},
   "source": [
    "## Системы линейных уравнений. Часть 2"
   ]
  },
  {
   "cell_type": "markdown",
   "metadata": {},
   "source": [
    "__1.__ Решить систему уравнений методом Крамера:\n",
    "\n",
    "   а) $\\begin{cases}\n",
    "x_{1}-2x_{2}=1 \\\\\n",
    "3x_{1}-4x_{2}=7\n",
    "\\end{cases}$"
   ]
  },
  {
   "cell_type": "markdown",
   "metadata": {},
   "source": [
    "$detA=\\begin{vmatrix}\n",
    "1 & -2\\\\ \n",
    "3 & -4\n",
    "\\end{vmatrix}=-4+6=2 \\neq 0$\n",
    "\n",
    "$detA_1=\\begin{vmatrix}\n",
    "1 & -2\\\\ \n",
    "7 & -4\n",
    "\\end{vmatrix}=-4+14=10 \\neq 0$\n",
    "\n",
    "$detA_2=\\begin{vmatrix}\n",
    "1 & 1\\\\ \n",
    "3 & 7\n",
    "\\end{vmatrix}=7-3=4 \\neq 0$\n",
    "\n",
    "$x_1=\\frac{10}{2}=5$\n",
    "\n",
    "$x_2=\\frac{4}{2}=2$"
   ]
  },
  {
   "cell_type": "markdown",
   "metadata": {},
   "source": [
    "   б) $\\begin{cases}\n",
    "2x_{1}-x_{2}+5x_{3}=10 \\\\\n",
    "x_{1}+x_{2}-3x_{3}=-2 \\\\\n",
    "2x_{1}+4x_{2}+x_{3}=1\n",
    "\\end{cases}$"
   ]
  },
  {
   "cell_type": "markdown",
   "metadata": {},
   "source": [
    "$detA=\\begin{vmatrix}\n",
    "2 & -1 & 5\\\\ \n",
    "1 & 1 & -3\\\\\n",
    "2 & 4 & 1\n",
    "\\end{vmatrix}=2+20+6-10+24+1=43 \\neq 0$\n",
    "\n",
    "$detA_1=\\begin{vmatrix}\n",
    "10 & -1 & 5\\\\ \n",
    "-2 & 1 & -3\\\\\n",
    "1 & 4 & 1\n",
    "\\end{vmatrix}=10-40+3-5+120-2=86 \\neq 0$\n",
    "\n",
    "$detA_2=\\begin{vmatrix}\n",
    "2 & 10 & 5\\\\ \n",
    "1 & -2 & -3\\\\\n",
    "2 & 1 & 1\n",
    "\\end{vmatrix}=-4+5-60+20+6-10=-43 \\neq 0$\n",
    "\n",
    "$detA_3=\\begin{vmatrix}\n",
    "2 & -1 & 10\\\\ \n",
    "1 & 1 & -2\\\\\n",
    "2 & 4 & 1\n",
    "\\end{vmatrix}=2+40+4-20+16+1=43 \\neq 0$\n",
    "\n",
    "$x_1=\\frac{86}{43}=2$\n",
    "\n",
    "$x_2=-\\frac{43}{43}=-1$\n",
    "\n",
    "$x_3=\\frac{43}{43}=1$"
   ]
  },
  {
   "cell_type": "markdown",
   "metadata": {},
   "source": [
    "__2*.__ Найти $L$-матрицу $LU$-разложения для матрицы коэффициентов:\n",
    "\n",
    "   а)$$\\begin{pmatrix}\n",
    "1 & 2 & 4 \\\\ \n",
    "2 & 9 & 12 \\\\ \n",
    "3 & 26 & 30\n",
    "\\end{pmatrix}$$"
   ]
  },
  {
   "cell_type": "markdown",
   "metadata": {},
   "source": [
    "$$\\begin{pmatrix}\n",
    "1 & 2 & 4 \\\\ \n",
    "0 & -5 & -4 \\\\ \n",
    "0 & -20 & -18\n",
    "\\end{pmatrix}$$\n",
    "\n",
    "$$L=\\begin{pmatrix}\n",
    "1 & 0 & 0 \\\\ \n",
    "2 & 1 & 0 \\\\ \n",
    "3 & l_{32} & 1\n",
    "\\end{pmatrix}$$\n",
    "\n",
    "$$\\begin{pmatrix}\n",
    "1 & 2 & 4 \\\\ \n",
    "0 & -5 & -4 \\\\ \n",
    "0 & 0 & 2\n",
    "\\end{pmatrix}$$\n",
    "\n",
    "$$L=\\begin{pmatrix}\n",
    "1 & 0 & 0 \\\\ \n",
    "2 & 1 & 0 \\\\ \n",
    "3 & 4 & 1\n",
    "\\end{pmatrix}$$"
   ]
  },
  {
   "cell_type": "markdown",
   "metadata": {},
   "source": [
    "б)$$\\begin{pmatrix}\n",
    "1 & 1 & 2 & 4\\\\ \n",
    "2 & 5 & 8 & 9\\\\ \n",
    "3 & 18 & 29 & 18\\\\\n",
    "4 & 22 & 53 & 33\n",
    "\\end{pmatrix}$$"
   ]
  },
  {
   "cell_type": "markdown",
   "metadata": {},
   "source": [
    "$$\\begin{pmatrix}\n",
    "1 & 1 & 2 & 4\\\\ \n",
    "2 & 5 & 8 & 9\\\\ \n",
    "3 & 18 & 29 & 18\\\\\n",
    "4 & 22 & 53 & 33\n",
    "\\end{pmatrix}$$\n",
    "\n",
    "$$\\begin{pmatrix}\n",
    "1 & 1 & 2 & 4\\\\ \n",
    "0 & -3 & -4 & -1\\\\ \n",
    "0 & -15 & -23 & -6\\\\\n",
    "0 & -18 & -45 & -17\n",
    "\\end{pmatrix}$$\n",
    "\n",
    "$$L=\\begin{pmatrix}\n",
    "1 & 0 & 0 & 0\\\\ \n",
    "2 & 1 & 0 & 0\\\\ \n",
    "3 & l_{32} & 1 & 0\\\\\n",
    "4 & l_{42} & l_{43} & 1\n",
    "\\end{pmatrix}$$\n",
    "\n",
    "$$\\begin{pmatrix}\n",
    "1 & 1 & 2 & 4\\\\ \n",
    "0 & -3 & -4 & -1\\\\ \n",
    "0 & 0 & 3 & 1\\\\\n",
    "0 & 0 & 21 & 11\n",
    "\\end{pmatrix}$$\n",
    "\n",
    "$$L=\\begin{pmatrix}\n",
    "1 & 0 & 0 & 0\\\\ \n",
    "2 & 1 & 0 & 0\\\\ \n",
    "3 & 5 & 1 & 0\\\\\n",
    "4 & 6 & l_{43} & 1\n",
    "\\end{pmatrix}$$\n",
    "\n",
    "$$\\begin{pmatrix}\n",
    "1 & 1 & 2 & 4\\\\ \n",
    "0 & -3 & -4 & -1\\\\ \n",
    "0 & 0 & 3 & 1\\\\\n",
    "0 & 0 & 0 & -4\n",
    "\\end{pmatrix}$$\n",
    "\n",
    "$$L=\\begin{pmatrix}\n",
    "1 & 0 & 0 & 0\\\\ \n",
    "2 & 1 & 0 & 0\\\\ \n",
    "3 & 5 & 1 & 0\\\\\n",
    "4 & 6 & 7 & 1\n",
    "\\end{pmatrix}$$"
   ]
  },
  {
   "cell_type": "markdown",
   "metadata": {},
   "source": [
    "__3*.__ Решить систему линейных уравнений методом $LU$-разложения\n",
    "\n",
    "$$\\begin{cases}\n",
    "2x_{1}+x_{2}+3x_{3}=1 \\\\\n",
    "11x_{1}+7x_{2}+5x_{3}=-6 \\\\\n",
    "9x_{1}+8x_{2}+4x_{3}=-5\n",
    "\\end{cases}$$"
   ]
  },
  {
   "cell_type": "markdown",
   "metadata": {},
   "source": [
    "$$\\begin{pmatrix}\n",
    "2 & 1 & 3 \\\\ \n",
    "11 & 7 & 5 \\\\ \n",
    "9 & 8 & 4\n",
    "\\end{pmatrix}$$\n",
    "\n",
    "$$\\begin{pmatrix}\n",
    "2 & 1 & 3 \\\\ \n",
    "0 & -1.5 & 11.5 \\\\ \n",
    "0 & -3.5 & 9.5\n",
    "\\end{pmatrix}$$\n",
    "\n",
    "$$L=\\begin{pmatrix}\n",
    "1 & 0 & 0 \\\\ \n",
    "5.5 & 1 & 0 \\\\ \n",
    "4.5 & l_{32} & 1\n",
    "\\end{pmatrix}$$\n",
    "\n",
    "$$\\begin{pmatrix}\n",
    "2 & 1 & 3 \\\\ \n",
    "0 & -1.5 & 11.5 \\\\ \n",
    "0 & 0 & 17.295\n",
    "\\end{pmatrix}$$\n",
    "\n",
    "$$L=\\begin{pmatrix}\n",
    "1 & 0 & 0 \\\\ \n",
    "5.5 & 1 & 0 \\\\ \n",
    "4.5 & 2.33 & 1\n",
    "\\end{pmatrix}$$\n",
    "\n",
    "$$\\begin{cases}\n",
    "y_1=1 \\\\\n",
    "5.5y_1+y_2=-6 \\\\\n",
    "4.5y_1+2.33y_2+y_3=-5\n",
    "\\end{cases}$$\n",
    "\n",
    "$$\\begin{cases}\n",
    "y_1=1 \\\\\n",
    "y_2=-11.5 \\\\\n",
    "y_3=17.295\n",
    "\\end{cases}$$\n",
    "\n",
    "$$\\begin{cases}\n",
    "2x_1+x_2+3x_3=1 \\\\\n",
    "-1.5x_2+11.5x_3=-11.5 \\\\\n",
    "17.295x_3=17.295\n",
    "\\end{cases}$$\n",
    "\n",
    "$$\\begin{cases}\n",
    "x_3=1 \\\\\n",
    "x_2=15.33 \\\\\n",
    "x_1=-8.665\n",
    "\\end{cases}$$"
   ]
  },
  {
   "cell_type": "markdown",
   "metadata": {},
   "source": [
    "__4*.__ Решить систему линейных уравнений методом Холецкого\n",
    "\n",
    "$$\\begin{cases}\n",
    "81x_{1}-45x_{2}+45x_{3}=531 \\\\\n",
    "-45x_{1}+50x_{2}-15x_{3}=-460 \\\\\n",
    "45x_{1}-15x_{2}+38x_{3}=193\n",
    "\\end{cases}$$"
   ]
  },
  {
   "cell_type": "markdown",
   "metadata": {},
   "source": [
    "$l_{11}=\\sqrt{81}=9$\n",
    "\n",
    "$l_{21}=\\frac{a_{21}}{l_{11}}=-\\frac{45}{9}=-5$\n",
    "\n",
    "$l_{31}=\\frac{a_{31}}{l_{11}}=\\frac{45}{9}=5$\n",
    "\n",
    "$l_{22}=\\sqrt{a_{22}-l^2_{21}}=\\sqrt{50-25}=5$\n",
    "\n",
    "$l_{32}=\\frac{1}{l_{22}}(a_{32}-l_{21}\\cdot l_{31})=\\frac{1}{5}(-15+25)=2$\n",
    "\n",
    "$l_{33}=\\sqrt{a_{33}-l^2_{31}-l^2_{32}}=\\sqrt{38-25-4}=3$\n",
    "\n",
    "$$L=\\begin{pmatrix}\n",
    "9 & 0 & 0 \\\\ \n",
    "-5 & 5 & 0 \\\\ \n",
    "5 & 2 & 3\n",
    "\\end{pmatrix}$$\n",
    "\n",
    "$$L^T=\\begin{pmatrix}\n",
    "9 & -5 & 5 \\\\ \n",
    "0 & 5 & 2 \\\\ \n",
    "0 & 0 & 3\n",
    "\\end{pmatrix}$$\n",
    "\n",
    "$$\\begin{cases}\n",
    "9y_1=531 \\\\\n",
    "-5y_1+5y_2=-460 \\\\\n",
    "5y_1+2y_2+3y_3=193\n",
    "\\end{cases}$$\n",
    "\n",
    "$$\\begin{cases}\n",
    "y_1=59 \\\\\n",
    "y_2=-33 \\\\\n",
    "y_3=-12\n",
    "\\end{cases}$$\n",
    "\n",
    "$$\\begin{cases}\n",
    "9x_1-5x_2+5x_3=59 \\\\\n",
    "5x_2+2x_3=-33 \\\\\n",
    "3x_3=-12\n",
    "\\end{cases}$$\n",
    "\n",
    "$$\\begin{cases}\n",
    "x_3=-4 \\\\\n",
    "x_2=-5 \\\\\n",
    "x_1=6\n",
    "\\end{cases}$$"
   ]
  }
 ],
 "metadata": {
  "kernelspec": {
   "display_name": "Python 3",
   "language": "python",
   "name": "python3"
  },
  "language_info": {
   "codemirror_mode": {
    "name": "ipython",
    "version": 3
   },
   "file_extension": ".py",
   "mimetype": "text/x-python",
   "name": "python",
   "nbconvert_exporter": "python",
   "pygments_lexer": "ipython3",
   "version": "3.8.5"
  }
 },
 "nbformat": 4,
 "nbformat_minor": 4
}
