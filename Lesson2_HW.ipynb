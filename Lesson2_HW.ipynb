{
 "cells": [
  {
   "cell_type": "code",
   "execution_count": 1,
   "metadata": {},
   "outputs": [],
   "source": [
    "import numpy as np"
   ]
  },
  {
   "cell_type": "markdown",
   "metadata": {},
   "source": [
    "## Матрицы и матричные операции. Часть 1"
   ]
  },
  {
   "cell_type": "markdown",
   "metadata": {},
   "source": [
    "__1.__ Установить, какие произведения матриц $AB$ и $BA$ определены, и найти размерности полученных матриц:\n",
    "\n",
    "   а) $A$ — матрица $4\\times 2$, $B$ — матрица $4\\times 2$;\n",
    "   \n",
    "   $AB$ не определено, т.к. $2\\neq4$\n",
    "   \n",
    "   $BA$ не определено, т.к. $4\\neq2$\n",
    "    \n",
    "   б) $A$ — матрица $2\\times 5$, $B$ — матрица $5\\times 3$;\n",
    "   \n",
    "   $AB$ определено, т.к. $5=5$, получится матрица $C$ ($2\\times 3$)\n",
    "   \n",
    "   $BA$ не определено, т.к. $3\\neq2$\n",
    "    \n",
    "   в) $A$ — матрица $8\\times 3$, $B$ — матрица $3\\times 8$;\n",
    "   \n",
    "   $AB$ определено, т.к. $3=3$, получится матрица $C$ ($8\\times 8$)\n",
    "   \n",
    "   $BA$ определено, т.к. $8=8$, получится матрица $C$ ($3\\times 3$)\n",
    "    \n",
    "   г) $A$ — квадратная матрица $4\\times 4$, $B$ — квадратная матрица $4\\times 4$.\n",
    "   \n",
    "   $AB$ определено, т.к. $4=4$, получится матрица $C$ ($4\\times 4$)\n",
    "   \n",
    "   $BA$ определено, т.к. $4=4$, получится матрица $C$ ($4\\times 4$)"
   ]
  },
  {
   "cell_type": "markdown",
   "metadata": {},
   "source": [
    "__2.__ Найти сумму и произведение матриц $A=\\begin{pmatrix}\n",
    "1 & -2\\\\ \n",
    "3 & 0\n",
    "\\end{pmatrix}$ и $B=\\begin{pmatrix}\n",
    "4 & -1\\\\ \n",
    "0 & 5\n",
    "\\end{pmatrix}.$"
   ]
  },
  {
   "cell_type": "markdown",
   "metadata": {},
   "source": [
    "$A+B=\\begin{pmatrix}\n",
    "1+4 & (-2)+(-1)\\\\ \n",
    "3+0 & 0+5\n",
    "\\end{pmatrix}=\n",
    "\\begin{pmatrix}\n",
    "5 & -3\\\\ \n",
    "3 & 5\n",
    "\\end{pmatrix}\n",
    "$\n",
    "\n",
    "$AB=\\begin{pmatrix}\n",
    "1\\cdot 4 + (-2)\\cdot 0 & 1\\cdot(-1)+(-2)\\cdot 5\\\\ \n",
    "3\\cdot 4+0\\cdot 0 & 3\\cdot (-1)+0\\cdot 5\n",
    "\\end{pmatrix}=\n",
    "\\begin{pmatrix}\n",
    "4 & -11\\\\ \n",
    "12 & -3\n",
    "\\end{pmatrix}\n",
    "$"
   ]
  },
  {
   "cell_type": "code",
   "execution_count": 12,
   "metadata": {},
   "outputs": [
    {
     "name": "stdout",
     "output_type": "stream",
     "text": [
      "A+B=\n",
      "[[ 5 -3]\n",
      " [ 3  5]]\n",
      "\n",
      "AB=\n",
      "[[  4 -11]\n",
      " [ 12  -3]]\n",
      "\n"
     ]
    }
   ],
   "source": [
    "A=np.array([[1,-2],[3,0]])\n",
    "B=np.array([[4,-1],[0,5]])\n",
    "\n",
    "print(f'A+B=\\n{A+B}\\n')\n",
    "print(f'AB=\\n{A@B}\\n')"
   ]
  },
  {
   "cell_type": "markdown",
   "metadata": {},
   "source": [
    "__3.__ Из закономерностей сложения и умножения матриц на число можно сделать вывод, что матрицы одного размера образуют линейное пространство. Вычислить линейную комбинацию $3A-2B+4C$ для матриц $A=\\begin{pmatrix}\n",
    "1 & 7\\\\ \n",
    "3 & -6\n",
    "\\end{pmatrix}$, $B=\\begin{pmatrix}\n",
    "0 & 5\\\\ \n",
    "2 & -1\n",
    "\\end{pmatrix}$, $C=\\begin{pmatrix}\n",
    "2 & -4\\\\ \n",
    "1 & 1\n",
    "\\end{pmatrix}.$"
   ]
  },
  {
   "cell_type": "markdown",
   "metadata": {},
   "source": [
    "$3A-2B+4C$=$3\\begin{pmatrix}\n",
    "1 & 7\\\\ \n",
    "3 & -6\n",
    "\\end{pmatrix}$$-2\\begin{pmatrix}\n",
    "0 & 5\\\\ \n",
    "2 & -1\n",
    "\\end{pmatrix}$$+4\\begin{pmatrix}\n",
    "2 & -4\\\\ \n",
    "1 & 1\n",
    "\\end{pmatrix}$=$\\begin{pmatrix}\n",
    "3 & 21\\\\ \n",
    "9 & -18\n",
    "\\end{pmatrix}$$-\\begin{pmatrix}\n",
    "0 & 10\\\\ \n",
    "4 & -2\n",
    "\\end{pmatrix}$$+\\begin{pmatrix}\n",
    "8 & -16\\\\ \n",
    "4 & 4\n",
    "\\end{pmatrix}$=$\\begin{pmatrix}\n",
    "3 & 11\\\\ \n",
    "5 & -16\n",
    "\\end{pmatrix}$$+\\begin{pmatrix}\n",
    "8 & -16\\\\ \n",
    "4 & 4\n",
    "\\end{pmatrix}$=$\\begin{pmatrix}\n",
    "11 & -5\\\\ \n",
    "9 & -12\n",
    "\\end{pmatrix}$"
   ]
  },
  {
   "cell_type": "code",
   "execution_count": 13,
   "metadata": {},
   "outputs": [
    {
     "name": "stdout",
     "output_type": "stream",
     "text": [
      "3A-2B+4C=\n",
      "[[ 11  -5]\n",
      " [  9 -12]]\n",
      "\n"
     ]
    }
   ],
   "source": [
    "A = np.array([[1,7],[3, -6]])\n",
    "B = np.array([[0,5],[2, -1]])\n",
    "C = np.array([[2,-4],[1, 1]])\n",
    "\n",
    "print(f'3A-2B+4C=\\n{3*A - 2*B + 4*C}\\n')"
   ]
  },
  {
   "cell_type": "markdown",
   "metadata": {},
   "source": [
    "__4.__ Дана матрица $A=\\begin{pmatrix}\n",
    "4 & 1\\\\ \n",
    "5 & -2\\\\ \n",
    "2 & 3\n",
    "\\end{pmatrix}$.\n",
    "Вычислить $AA^{T}$ и $A^{T}A$."
   ]
  },
  {
   "cell_type": "markdown",
   "metadata": {},
   "source": [
    "$A^T=\\begin{pmatrix}\n",
    "4 & 5 & 2\\\\ \n",
    "1 & -2 & 3\n",
    "\\end{pmatrix}$\n",
    "\n",
    "$AA^T=\\begin{pmatrix}\n",
    "4\\cdot4+1\\cdot1 & 4\\cdot5+1\\cdot(-2) & 4\\cdot2+1\\cdot3\\\\\n",
    "5\\cdot4+(-2)\\cdot1 & 5\\cdot5+(-2)\\cdot(-2) & 5\\cdot2+(-2)\\cdot3\\\\\n",
    "2\\cdot4+3\\cdot1 & 2\\cdot5+3\\cdot(-2) & 2\\cdot2+3\\cdot3\n",
    "\\end{pmatrix}=\\begin{pmatrix}\n",
    "17 & 18 & 11\\\\\n",
    "18 & 29 & 4\\\\\n",
    "11 & 4 & 13\n",
    "\\end{pmatrix}$\n",
    "\n",
    "$A^TA=\\begin{pmatrix}\n",
    "4\\cdot4+5\\cdot5+2\\cdot2 & 4\\cdot1+5\\cdot(-2)+2\\cdot3\\\\ \n",
    "1\\cdot4+(-2)\\cdot5+3\\cdot2 & 1\\cdot1+(-2)\\cdot(-2)+3\\cdot3\n",
    "\\end{pmatrix}=\\begin{pmatrix}\n",
    "45 & 0\\\\ \n",
    "0 & 14\n",
    "\\end{pmatrix}$"
   ]
  },
  {
   "cell_type": "code",
   "execution_count": 18,
   "metadata": {},
   "outputs": [
    {
     "name": "stdout",
     "output_type": "stream",
     "text": [
      "A*A.T=\n",
      "[[17 18 11]\n",
      " [18 29  4]\n",
      " [11  4 13]]\n",
      "\n",
      "A.T*A=\n",
      "[[45  0]\n",
      " [ 0 14]]\n",
      "\n"
     ]
    }
   ],
   "source": [
    "A = np.array([[4,1],[5, -2],[2,3]])\n",
    "\n",
    "print(f'A*A.T=\\n{A@A.T}\\n')\n",
    "print(f'A.T*A=\\n{A.T@A}\\n')"
   ]
  },
  {
   "cell_type": "markdown",
   "metadata": {},
   "source": [
    "__5*.__ Написать на Python функцию для перемножения двух произвольных матриц, не используя NumPy."
   ]
  },
  {
   "cell_type": "code",
   "execution_count": 6,
   "metadata": {},
   "outputs": [],
   "source": [
    "def dot_product(a, b):\n",
    "    a_rows = len(a)\n",
    "    b_rows = len(b)\n",
    "    a_cols = len(a[0])\n",
    "    b_cols = len(b[0])\n",
    "    if a_cols != b_rows:\n",
    "        print('Number of columns in A must be equal to number of rows in B')\n",
    "        return False\n",
    "    result = [[0]*b_cols for i in range(a_rows)]\n",
    "    for i in range(a_rows):\n",
    "        for j in range(b_cols):\n",
    "            for k in range(a_cols):\n",
    "                result[i][j] += a[i][k] * b[k][j]\n",
    "    return result"
   ]
  },
  {
   "cell_type": "markdown",
   "metadata": {},
   "source": [
    "## Матрицы и матричные операции. Часть 2"
   ]
  },
  {
   "cell_type": "markdown",
   "metadata": {},
   "source": [
    "__1.__ Вычислить определитель:\n",
    "\n",
    "   a)\n",
    "\n",
    "$\\begin{vmatrix}\n",
    "sinx & -cosx\\\\ \n",
    "cosx & sinx\n",
    "\\end{vmatrix}=sin^2x+cos^2x=1$\n",
    "\n",
    "   б)\n",
    "    \n",
    "$\\begin{vmatrix}\n",
    "4 & 2 & 3\\\\ \n",
    "0 & 5 & 1\\\\ \n",
    "0 & 0 & 9\n",
    "\\end{vmatrix}=4\\cdot5\\cdot9+2\\cdot1\\cdot0+0\\cdot0\\cdot3-3\\cdot5\\cdot0-2\\cdot0\\cdot9-4\\cdot1\\cdot0=180$\n",
    "    \n",
    "   в)\n",
    "\n",
    "$\\begin{vmatrix}\n",
    "1 & 2 & 3\\\\ \n",
    "4 & 5 & 6\\\\ \n",
    "7 & 8 & 9\n",
    "\\end{vmatrix}=1\\cdot5\\cdot9+2\\cdot6\\cdot7+3\\cdot4\\cdot8-3\\cdot5\\cdot7-1\\cdot6\\cdot8-2\\cdot4\\cdot9=0$"
   ]
  },
  {
   "cell_type": "code",
   "execution_count": 24,
   "metadata": {},
   "outputs": [
    {
     "name": "stdout",
     "output_type": "stream",
     "text": [
      "Определитель для б =180.0\n",
      "\n",
      "Определитель для в =-0\n",
      "\n"
     ]
    }
   ],
   "source": [
    "a=np.array([[4,2,3],[0,5,1],[0,0,9]])\n",
    "b=np.array([[1,2,3],[4,5,6],[7,8,9]])\n",
    "\n",
    "print(f'Определитель для б ={np.linalg.det(a)}\\n')\n",
    "print(f'Определитель для в ={np.linalg.det(b):.0f}\\n')"
   ]
  },
  {
   "cell_type": "markdown",
   "metadata": {},
   "source": [
    "__2.__ Определитель матрицы $A$ равен $4$. Найти:\n",
    "\n",
    "   а) $det(A^{2})$\n",
    "   \n",
    "   $det(AB)=detA\\cdot detB$\n",
    "   \n",
    "   $det(A^{2})=16$\n",
    "       \n",
    "   б) $det(A^{T})$\n",
    "   \n",
    "   $det(A^{T})=detA=4$\n",
    "    \n",
    "   в) $det(2A)$\n",
    "   \n",
    "   $det(2A)=2detA=8$\n",
    "   \n",
    "   "
   ]
  },
  {
   "cell_type": "markdown",
   "metadata": {},
   "source": [
    "__3.__  Доказать, что матрица\n",
    "\n",
    "$$\\begin{pmatrix}\n",
    "-2 & 7 & -3\\\\ \n",
    "4 & -14 & 6\\\\ \n",
    "-3 & 7 & 13\n",
    "\\end{pmatrix}$$\n",
    "   \n",
    "вырожденная.\n",
    "\n",
    "Строка 2 равна строке 1 умноженной на -2.\n",
    "\n",
    "$\\begin{vmatrix}\n",
    "-2 & 7 & -3\\\\ \n",
    "4 & -14 & 6\\\\ \n",
    "-3 & 7 & 13\n",
    "\\end{vmatrix}=(-2)\\cdot(-14)\\cdot13+7\\cdot6\\cdot(-3)+(-3)\\cdot4\\cdot7-(-3)\\cdot(-14)\\cdot(-3)-(-2)\\cdot6\\cdot7-7\\cdot4\\cdot13=0$\n",
    "\n",
    "Определитель = 0, матрица вырожденная."
   ]
  },
  {
   "cell_type": "markdown",
   "metadata": {},
   "source": [
    "__4.__ Найти ранг матрицы:\n",
    "\n",
    "   а) $\\begin{pmatrix}\n",
    "1 & 2 & 3\\\\ \n",
    "1 & 1 & 1\\\\ \n",
    "2 & 3 & 4\n",
    "\\end{pmatrix};$\n",
    "\n",
    "   3 строка является суммой первых двух, ее можно отбросить.\n",
    "   \n",
    "   $\\begin{pmatrix}\n",
    "1 & 2 & 3\\\\ \n",
    "1 & 1 & 1\n",
    "\\end{pmatrix}$\n",
    "\n",
    "   Из 2 строки вычитаем 1.\n",
    "   \n",
    "  $\\begin{pmatrix}\n",
    "1 & 2 & 3\\\\ \n",
    "0 & -1 & -2\n",
    "\\end{pmatrix}$\n",
    "\n",
    "   Ранг = 2.\n",
    "\n",
    "   б) $\\begin{pmatrix}\n",
    "0 & 0 & 2 & 1\\\\ \n",
    "0 & 0 & 2 & 2\\\\ \n",
    "0 & 0 & 4 & 3\\\\ \n",
    "2 & 3 & 5 & 6\n",
    "\\end{pmatrix}.$\n",
    "\n",
    "   3 строка является суммой первых двух, ее можно отбросить. Меняем строки местами.\n",
    "   \n",
    "   $\\begin{pmatrix}\n",
    "2 & 3 & 5 & 6\\\\ \n",
    "0 & 0 & 2 & 2\\\\\n",
    "0 & 0 & 2 & 1\n",
    "\\end{pmatrix}$\n",
    "   \n",
    "   Ранг = 3."
   ]
  },
  {
   "cell_type": "code",
   "execution_count": 25,
   "metadata": {},
   "outputs": [
    {
     "name": "stdout",
     "output_type": "stream",
     "text": [
      "Ранг матрицы а = 2\n",
      "Ранг матрицы б = 3\n"
     ]
    }
   ],
   "source": [
    "a=np.array([[1,2,3],[1,1,1],[2,3,4]])\n",
    "b=np.array([[0,0,2,1],[0,0,2,2],[0,0,4,3],[2,3,5,6]])\n",
    "\n",
    "print(f'Ранг матрицы а = {np.linalg.matrix_rank(a)}')\n",
    "print(f'Ранг матрицы б = {np.linalg.matrix_rank(b)}')"
   ]
  }
 ],
 "metadata": {
  "kernelspec": {
   "display_name": "Python 3",
   "language": "python",
   "name": "python3"
  },
  "language_info": {
   "codemirror_mode": {
    "name": "ipython",
    "version": 3
   },
   "file_extension": ".py",
   "mimetype": "text/x-python",
   "name": "python",
   "nbconvert_exporter": "python",
   "pygments_lexer": "ipython3",
   "version": "3.8.5"
  }
 },
 "nbformat": 4,
 "nbformat_minor": 4
}
